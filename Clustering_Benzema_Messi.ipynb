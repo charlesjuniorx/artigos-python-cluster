{
 "cells": [
  {
   "cell_type": "code",
   "execution_count": null,
   "id": "7ad1b37d",
   "metadata": {},
   "outputs": [],
   "source": [
    "# Instruções\n",
    "\n",
    "# 1 - É necessário baixar o arquivo players_22.csv em: \n",
    "#         https://www.kaggle.com/datasets/stefanoleone992/fifa-22-complete-player-dataset\n",
    "\n",
    "# 2 - O dataframe df contém os dados originais do arquivo player_22.csv\n",
    "\n",
    "# 3 - São criados outros dois dataframes principais, à partir do df, para serem aplicados aos modelos:\n",
    "#          df_h --> Para o modelo hierárquico (Benzema)\n",
    "#          df_kmeans --> Para o modelo não hierárquico (Messi)\n",
    "\n",
    "# 4 - São criados dois dataframes padronizado\n",
    "#          df_h_scaled --> Zscore para modelo hierárquico\n",
    "#          df_kmeans_scaled --> Zscore para modelo não hierárquico\n",
    "\n",
    "# 5 - É utilizado também a PCA para redução da dimensionalidade e para aplicar o ranking (no Kmeans)\n",
    "\n",
    "# 6 - O código está estruturado assim:\n",
    "#     DataWrangling --> EDA (Análise Exporatória dos Dados) --> Hierárquico --> Não Hierárquico \n",
    "\n",
    "# 7 - Se não tiver o pacote instalado tem que instalar: pip install <nomePacote>"
   ]
  },
  {
   "cell_type": "code",
   "execution_count": null,
   "id": "1a92e0c6",
   "metadata": {},
   "outputs": [],
   "source": [
    "# Bibliotecas utilizadas\n",
    "import pandas as pd\n",
    "import numpy as np\n",
    "import matplotlib.pyplot as plt\n",
    "import seaborn as sb\n",
    "from sklearn.preprocessing import StandardScaler\n",
    "from sklearn.cluster import AgglomerativeClustering, KMeans\n",
    "from scipy.cluster import hierarchy\n",
    "from sklearn.decomposition import PCA"
   ]
  },
  {
   "cell_type": "code",
   "execution_count": null,
   "id": "0d4bb74d",
   "metadata": {},
   "outputs": [],
   "source": [
    "# Utilizado para remover os warnings\n",
    "import warnings \n",
    "warnings.filterwarnings('ignore')\n",
    "# Usado para plotar na célula ao invés de abrir uma nova janela\n",
    "%matplotlib inline"
   ]
  },
  {
   "cell_type": "code",
   "execution_count": null,
   "id": "26d9a7ab",
   "metadata": {},
   "outputs": [],
   "source": [
    "#Carregando o arquivo para df (Sem path pois está no mesmo diretório do código)\n",
    "df = pd.read_csv(\"players_22.csv\")\n",
    "###### APLICANDO DATA WRANGLING ######\n",
    "# Atribuindo zero em valores NA\n",
    "df.fillna(0, inplace=True)\n",
    "# Removendo possíveis jogadores duplicados\n",
    "df.drop_duplicates(subset=['short_name'], inplace=True)\n",
    "# Removendo espaços\n",
    "df['short_name'] = df['short_name'].str.strip()\n",
    "# Criando o df_h com jogadores na posição CF, ST para o modelo hierárquico (Benzema)\n",
    "df_h = df[df['player_positions'].str.contains(\"CF, ST\")]\n",
    "# Criando o df_kmeans com jogadores na posição RW para o modelo kmeans (Messi)\n",
    "df_kmeans = df[df['player_positions'].str.contains(\"RW\")]\n",
    "# Removendo colunas desnecessárias\n",
    "df_h = df_h.iloc[:, [2] + list(range(37, 72))]\n",
    "df_kmeans = df_kmeans.iloc[:, [2] + list(range(37, 72))]\n",
    "# Preparando para nomear o índice de registros com os nomes dos jogadores \n",
    "nomes_h = df_h['short_name'].values\n",
    "nomes_kmeans = df_kmeans['short_name'].values\n",
    "# Removendo a coluna com os nomes dos jogadores\n",
    "df_h.drop('short_name', axis=1, inplace=True)\n",
    "df_kmeans.drop('short_name', axis=1, inplace=True)\n",
    "# Nomeando os registros com o nome dos jogadores para rodar o modelo\n",
    "df_h.index = nomes_h\n",
    "df_kmeans.index = nomes_kmeans\n",
    "####### FIM DO DATA WRANGLING ########"
   ]
  },
  {
   "cell_type": "code",
   "execution_count": null,
   "id": "b66e23b3",
   "metadata": {},
   "outputs": [],
   "source": [
    "# ANÁLISE EXPLORATÓRIA DOS DADOS (EDA)"
   ]
  },
  {
   "cell_type": "code",
   "execution_count": null,
   "id": "b44ee469",
   "metadata": {
    "scrolled": true
   },
   "outputs": [],
   "source": [
    "# Contando a quantidade de jogadores em cada posição\n",
    "print(df['player_positions'].value_counts())"
   ]
  },
  {
   "cell_type": "code",
   "execution_count": null,
   "id": "1f32133d",
   "metadata": {},
   "outputs": [],
   "source": [
    "# Quantidade de observações e variáveis nos dataframes df_h e df_kmeans\n",
    "print(f'df_h ->', df_h.shape)\n",
    "print(f'df_kmeans ->', df_kmeans.shape)"
   ]
  },
  {
   "cell_type": "code",
   "execution_count": null,
   "id": "75228dd3",
   "metadata": {},
   "outputs": [],
   "source": [
    "# Printando o df_h\n",
    "print(df_h)"
   ]
  },
  {
   "cell_type": "code",
   "execution_count": null,
   "id": "276d3ce5",
   "metadata": {},
   "outputs": [],
   "source": [
    "# Printando o df_kmeans\n",
    "print(df_kmeans)"
   ]
  },
  {
   "cell_type": "code",
   "execution_count": null,
   "id": "2979e938",
   "metadata": {},
   "outputs": [],
   "source": [
    "# Estatísticas do df_h\n",
    "df_h.describe()"
   ]
  },
  {
   "cell_type": "code",
   "execution_count": null,
   "id": "32d188e9",
   "metadata": {
    "scrolled": true
   },
   "outputs": [],
   "source": [
    "# Estatísticas do df_kmeans\n",
    "df_kmeans.describe()"
   ]
  },
  {
   "cell_type": "code",
   "execution_count": null,
   "id": "2e256f6a",
   "metadata": {},
   "outputs": [],
   "source": [
    "# Correlação entre as variáveis df_h (apenas 6 primeiras variáveis)\n",
    "sb.pairplot(df_h.iloc[:, :6])"
   ]
  },
  {
   "cell_type": "code",
   "execution_count": null,
   "id": "df8a707b",
   "metadata": {},
   "outputs": [],
   "source": [
    "#Mapa de calor df_h (apenas 6 primeiras variáveis)\n",
    "plt.figure(figsize=(7,7))\n",
    "corr = np.corrcoef(df_h.iloc[:, :6].values, rowvar=False)\n",
    "sb.heatmap(corr, annot=True, cmap='Blues', fmt='.2f', cbar=False,\n",
    "           xticklabels=df_h.iloc[:, :6].columns, \n",
    "           yticklabels=df_h.iloc[:, :6].columns)"
   ]
  },
  {
   "cell_type": "code",
   "execution_count": null,
   "id": "fe36589c",
   "metadata": {},
   "outputs": [],
   "source": [
    "# Correlação entre as variáveis df_kmeans (apenas 6 primeiras variáveis)\n",
    "# Quero em vermelho para diferenciar do anterior, por isso o código adicional.\n",
    "\n",
    "# Salva a paleta atual para restaurá-la depois\n",
    "old_palette = sb.color_palette()\n",
    "# Define a paleta para vermelho\n",
    "sb.set_palette(sb.color_palette(['red']))\n",
    "# Gera o gráfico pairplot\n",
    "sb.pairplot(df_kmeans.iloc[:, :6])\n",
    "# Restaura a paleta anterior\n",
    "sb.set_palette(old_palette)"
   ]
  },
  {
   "cell_type": "code",
   "execution_count": null,
   "id": "ecb76987",
   "metadata": {},
   "outputs": [],
   "source": [
    "#Mapa de calor df_kmeans (apenas 6 primeiras variáveis)\n",
    "plt.figure(figsize=(7,7))\n",
    "corr = np.corrcoef(df_kmeans.iloc[:, :6].values, rowvar=False)\n",
    "sb.heatmap(corr, annot=True, cmap='Reds', fmt='.2f', cbar=False,\n",
    "           xticklabels=df_kmeans.iloc[:, :6].columns, \n",
    "           yticklabels=df_kmeans.iloc[:, :6].columns)"
   ]
  },
  {
   "cell_type": "code",
   "execution_count": null,
   "id": "7e315450",
   "metadata": {},
   "outputs": [],
   "source": [
    "# Visualizando os 5 primeiros registros do df_h antes de aplicar a scala\n",
    "df_h.head(5)"
   ]
  },
  {
   "cell_type": "code",
   "execution_count": null,
   "id": "bb8d9bbd",
   "metadata": {},
   "outputs": [],
   "source": [
    "# Aplicando a Scala no df_h em um novo dataframe chamado df_h_scaled\n",
    "df_h_scaled = df_h.copy()\n",
    "df_h_scaled.iloc[:, :] = StandardScaler().fit_transform(df_h)"
   ]
  },
  {
   "cell_type": "code",
   "execution_count": null,
   "id": "5c4f9858",
   "metadata": {},
   "outputs": [],
   "source": [
    "# Visualizando os 5 primeiros registros do df_h_scaled\n",
    "df_h_scaled.head(5)"
   ]
  },
  {
   "cell_type": "code",
   "execution_count": null,
   "id": "4ca222d1",
   "metadata": {},
   "outputs": [],
   "source": [
    "# Visualizando os 5 primeiros registros df_kmeans antes de aplicar a scala\n",
    "df_kmeans.head(5)"
   ]
  },
  {
   "cell_type": "code",
   "execution_count": null,
   "id": "6f3b0194",
   "metadata": {},
   "outputs": [],
   "source": [
    "# Aplicando a Scala no df_h em um novo dataframe chamado df_h_scaled\n",
    "df_kmeans_scaled = df_kmeans.copy()\n",
    "df_kmeans_scaled.iloc[:, :] = StandardScaler().fit_transform(df_kmeans_scaled)"
   ]
  },
  {
   "cell_type": "code",
   "execution_count": null,
   "id": "4ec43b36",
   "metadata": {},
   "outputs": [],
   "source": [
    "# Visualizando os 5 primeiros registros do df_h_scaled\n",
    "df_kmeans_scaled.head(5)"
   ]
  },
  {
   "cell_type": "code",
   "execution_count": null,
   "id": "8297a09d",
   "metadata": {},
   "outputs": [],
   "source": [
    "# Modelo hierárquivo (Benzemar)"
   ]
  },
  {
   "cell_type": "code",
   "execution_count": null,
   "id": "6d3ae979",
   "metadata": {
    "scrolled": true
   },
   "outputs": [],
   "source": [
    "# Gerando o dendrograma com o df_h_scaled usando o método ward\n",
    "Z = hierarchy.linkage(df_h_scaled, 'ward')\n",
    "plt.figure(figsize=(18,10))\n",
    "plt.grid(axis='y')\n",
    "dn = hierarchy.dendrogram(Z, labels=list(df_h_scaled.index), leaf_font_size=8)\n",
    "plt.grid(False)\n",
    "plt.show()"
   ]
  },
  {
   "cell_type": "code",
   "execution_count": null,
   "id": "1e6779d9",
   "metadata": {
    "scrolled": true
   },
   "outputs": [],
   "source": [
    "# Para analisar jogadores específicos, fornecendo uma lista\n",
    "jogadores_especificos = ['K. Benzema', 'Anderson Talisca', 'João Félix', 'Gonçalo Ramos']\n",
    "df_jogadores_especificos = df_h_scaled.loc[jogadores_especificos, :]\n",
    "\n",
    "# Gerando um novo dendograma apenas com os jogadores específicos\n",
    "Z2 = hierarchy.linkage(df_jogadores_especificos, 'ward')\n",
    "plt.figure(figsize=(18,6))\n",
    "plt.grid(axis='y')\n",
    "dn = hierarchy.dendrogram(Z2, labels=list(df_jogadores_especificos.index), leaf_font_size=8)\n",
    "plt.grid(False)\n",
    "plt.show()"
   ]
  },
  {
   "cell_type": "code",
   "execution_count": null,
   "id": "4150e2b3",
   "metadata": {},
   "outputs": [],
   "source": [
    "# Gerando o dendrograma com o df_h_scaled usando o método ward\n",
    "Z = hierarchy.linkage(df_h_scaled, 'ward')\n",
    "plt.figure(figsize=(18,10))\n",
    "plt.grid(axis='y')\n",
    "dn = hierarchy.dendrogram(Z, labels=list(df_h_scaled.index), leaf_font_size=8)\n",
    "\n",
    "plt.axhline(linestyle = '--', y=14)\n",
    "plt.grid(False)\n",
    "plt.show()"
   ]
  },
  {
   "cell_type": "code",
   "execution_count": null,
   "id": "dcbcc6f0",
   "metadata": {
    "scrolled": false
   },
   "outputs": [],
   "source": [
    "# Applicando a clusterização para 4 grupos (Usando o cálculo da distância euclidiana e o método Ward)\n",
    "n_clusters = 5\n",
    "cluster = AgglomerativeClustering(n_clusters=n_clusters, affinity='euclidean', linkage='ward')\n",
    "grupos = cluster.fit_predict(df_h)"
   ]
  },
  {
   "cell_type": "code",
   "execution_count": null,
   "id": "9b2a4ae6",
   "metadata": {},
   "outputs": [],
   "source": [
    "# Imprimindo um array com os grupos\n",
    "grupos"
   ]
  },
  {
   "cell_type": "code",
   "execution_count": null,
   "id": "6f7996f5",
   "metadata": {},
   "outputs": [],
   "source": [
    "# Imprimindo o output com o resultado do agrupamento\n",
    "jogadores_h = list(df_h.index)\n",
    "grp_jogadores_h = {i: [] for i in range(n_clusters)}\n",
    "for jogador, grupo in zip(jogadores_h, grupos):\n",
    "    grp_jogadores_h[grupo].append(jogador)\n",
    "\n",
    "for gp, ctr in grp_jogadores_h.items():\n",
    "    print(f'Cluster {gp}: {ctr}\\n')\n",
    "    \n"
   ]
  },
  {
   "cell_type": "code",
   "execution_count": null,
   "id": "d9c9bbea",
   "metadata": {},
   "outputs": [],
   "source": [
    "# Modelo Não Hierárquico (Messi)"
   ]
  },
  {
   "cell_type": "code",
   "execution_count": null,
   "id": "a041b05a",
   "metadata": {},
   "outputs": [],
   "source": [
    "# Aplicando o método Elbow para estabelecer a quantidade de cluster para o Kmeans\n",
    "# Será usado o df_kmeans_scaled (padronizado)\n",
    "inertia = []\n",
    "\n",
    "# Será analisada a variabilidade para 20 clusters\n",
    "for k in np.arange(1, 20):\n",
    "    kmeans = KMeans(n_clusters=k)\n",
    "    kmeans.fit(df_kmeans_scaled)\n",
    "    inertia.append(kmeans.inertia_)\n",
    "    \n",
    "# Plotando o gráfico do Elbow Method\n",
    "plt.figure(figsize=(8, 6))\n",
    "plt.plot(np.arange(1, 20), inertia, '-o')\n",
    "plt.xlabel('Número de clusters')\n",
    "plt.ylabel('Inertia');\n",
    "\n"
   ]
  },
  {
   "cell_type": "code",
   "execution_count": null,
   "id": "70e0e776",
   "metadata": {},
   "outputs": [],
   "source": [
    "# Printando os labels\n",
    "kmeans.labels_"
   ]
  },
  {
   "cell_type": "code",
   "execution_count": null,
   "id": "24fa1d80",
   "metadata": {
    "scrolled": true
   },
   "outputs": [],
   "source": [
    "df_kmeans_scaled"
   ]
  },
  {
   "cell_type": "code",
   "execution_count": null,
   "id": "739d0e37",
   "metadata": {},
   "outputs": [],
   "source": [
    "### REDUÇAO DA DIMENSIONALIDADE COM PCA PARA PLOTAR O SCATTER\n",
    "\n",
    "# Removendo as colunas, para não ter problema com reprocessamento\n",
    "\n",
    "# Lista das colunas a serem removidas\n",
    "colunas_para_remover = ['pca1', 'pca2', 'cluster']\n",
    "\n",
    "# Verifica se as colunas existem no DataFrame antes de tentar removê-las\n",
    "colunas_existentes = [col for col in colunas_para_remover if col in df_kmeans_scaled.columns]\n",
    "\n",
    "# Remove as colunas apenas se existirem\n",
    "if colunas_existentes:\n",
    "    df_kmeans_scaled = df_kmeans_scaled.drop(colunas_existentes, axis=1)\n",
    "    \n",
    "\n",
    "# Aplicando PCA para reduzir a dimensionalidade para 2 componentes principais\n",
    "pca = PCA(n_components=2)\n",
    "pca_components = pca.fit_transform(df_kmeans_scaled)\n",
    "\n",
    "# Adicionando os componentes principais no dataframe df_kmeans_scaled\n",
    "df_kmeans_scaled['pca1'] = pca_components[:, 0]\n",
    "df_kmeans_scaled['pca2'] = pca_components[:, 1]\n",
    "\n",
    "# Aplicando KMeans com 4 grupos nos componentes principais\n",
    "kmeans = KMeans(n_clusters=4)\n",
    "df_kmeans_scaled['cluster'] = kmeans.fit_predict(pca_components)\n",
    "\n",
    "# Plotando o scatter plot\n",
    "plt.figure(figsize=(10, 6))\n",
    "plt.scatter(df_kmeans_scaled['pca1'], df_kmeans_scaled['pca2'], c=df_kmeans_scaled['cluster'], cmap='viridis', s=50)\n",
    "plt.title('PCA + KMeans Clusters')\n",
    "plt.xlabel('pca 1')\n",
    "plt.ylabel('pca 2')\n",
    "plt.colorbar(label='Cluster')\n",
    "plt.show()\n"
   ]
  },
  {
   "cell_type": "code",
   "execution_count": null,
   "id": "8af94fa3",
   "metadata": {
    "scrolled": true
   },
   "outputs": [],
   "source": [
    "# Removendo as colunas, para não ter problema com reprocessamento\n",
    "\n",
    "# Lista das colunas a serem removidas\n",
    "colunas_para_remover = ['pca1', 'pca2', 'cluster']\n",
    "\n",
    "# Verifica se as colunas existem no DataFrame antes de tentar removê-las\n",
    "colunas_existentes = [col for col in colunas_para_remover if col in df_kmeans_scaled.columns]\n",
    "\n",
    "# Remove as colunas apenas se existirem\n",
    "if colunas_existentes:\n",
    "    df_kmeans_scaled = df_kmeans_scaled.drop(colunas_existentes, axis=1)\n",
    "    \n",
    "# Aplicando PCA para reduzir a dimensionalidade para 2 componentes principais\n",
    "pca = PCA(n_components=2)\n",
    "pca_components = pca.fit_transform(df_kmeans_scaled)\n",
    "\n",
    "\n",
    "# Criando um modelo com K = 4\n",
    "modelo_v1 = KMeans(n_clusters = 4)\n",
    "modelo_v1.fit(pca_components)\n",
    "\n",
    "# Preparando o gráfico de área\n",
    "x_min, x_max = pca_components[:, 0].min() - 5, pca_components[:, 0].max() - 1\n",
    "y_min, y_max = pca_components[:, 0].min() + 1, pca_components[:, 0].max() + 5\n",
    "xx, yy = np.meshgrid(np.arange(x_min, x_max, .02), np.arange(y_min, y_max, .02))\n",
    "Z = modelo_v1.predict(np.c_[xx.ravel(), yy.ravel()])\n",
    "Z = Z.reshape(xx.shape)\n",
    "\n",
    "# Plot das áreas dos clusters\n",
    "plt.figure(1)\n",
    "plt.clf()\n",
    "plt.imshow(Z, \n",
    "           interpolation = 'nearest',\n",
    "           extent = (xx.min(), xx.max(), yy.min(), yy.max()),\n",
    "           cmap = plt.cm.Paired,\n",
    "           aspect = 'auto', \n",
    "           origin = 'lower')"
   ]
  },
  {
   "cell_type": "code",
   "execution_count": null,
   "id": "34d2bb29",
   "metadata": {},
   "outputs": [],
   "source": [
    "# Plot dos centróides (usa o modelo_v1 e pca_components - criados anteriormente)\n",
    "plt.plot(pca_components[:, 0], pca_components[:, 1], 'k.', markersize = 4)\n",
    "centroids = modelo_v1.cluster_centers_\n",
    "inert = modelo_v1.inertia_\n",
    "plt.scatter(centroids[:, 0], centroids[:, 1], marker = 'x', s = 169, linewidths = 3, color = 'r', zorder = 8)\n",
    "plt.xlim(x_min, x_max)\n",
    "plt.ylim(y_min, y_max)\n",
    "plt.xticks(())\n",
    "plt.yticks(())\n",
    "plt.show()"
   ]
  },
  {
   "cell_type": "code",
   "execution_count": null,
   "id": "237552ef",
   "metadata": {},
   "outputs": [],
   "source": [
    "# Rodando a clusterização\n",
    "\n",
    "# Removendo as colunas, para não ter problema com reprocessamento\n",
    "# Lista das colunas a serem removidas\n",
    "colunas_para_remover = ['pca1', 'pca2', 'cluster']\n",
    "# Verifica se as colunas existem no DataFrame antes de tentar removê-las\n",
    "colunas_existentes = [col for col in colunas_para_remover if col in df_kmeans_scaled.columns]\n",
    "# Remove as colunas apenas se existirem\n",
    "if colunas_existentes:\n",
    "    df_kmeans_scaled = df_kmeans_scaled.drop(colunas_existentes, axis=1)\n",
    "# Aplicando KMeans com 4 grupos nos componentes principais\n",
    "kmeans = KMeans(n_clusters=4, random_state=22)\n",
    "df_kmeans_scaled['cluster'] = kmeans.fit_predict(df_kmeans_scaled)\n",
    "n_clusters = 4\n",
    "grupos = df_kmeans_scaled['cluster']\n",
    "#Imprimindo os agrupamentos\n",
    "jogadores = list(df_kmeans_scaled.index)\n",
    "grp_jogadores = {i: [] for i in range(n_clusters)}\n",
    "for jogador, grupo in zip(jogadores, grupos):\n",
    "    grp_jogadores[grupo].append(jogador)\n",
    "\n",
    "for gp, ctr in grp_jogadores.items():\n",
    "    print(f'Cluster {gp}: {ctr}\\n')\n",
    "    "
   ]
  },
  {
   "cell_type": "code",
   "execution_count": null,
   "id": "efa7d862",
   "metadata": {},
   "outputs": [],
   "source": [
    "#Criando um ranking com os 10 jogadores no grupo do Messi usando PCA\n",
    "\n",
    "# Procurando o número do cluster onde está o Messi\n",
    "valor_especifico =  df_kmeans_scaled.loc['L. Messi', 'cluster']\n",
    "# Criação do novo DataFrame com base na indexação booleana apenas com o cluster Messi\n",
    "df_cluster_Messi = df_kmeans_scaled[df_kmeans_scaled['cluster'] == valor_especifico]\n",
    "# Retirar a coluna cluster para aplicar a PCA\n",
    "df_cluster_Messi = df_cluster_Messi.iloc[:, :-1]\n",
    "# Aplicar PCA\n",
    "pca = PCA(n_components=4)\n",
    "pca_result = pca.fit_transform(df_cluster_Messi)\n",
    "# Calcular a pontuação de cada cidade com base nos componentes principais\n",
    "df_cluster_Messi['pontuacao'] = np.linalg.norm(pca_result, axis=1)\n",
    "# Criar ranking dos 10 jogadores\n",
    "top_jogadores = df_cluster_Messi.nlargest(10, 'pontuacao')\n",
    "# Mostrar ranking \n",
    "print(\"Ranking cluster Messi usando PCA:\")\n",
    "print(top_jogadores.loc[:, ['pontuacao']])"
   ]
  },
  {
   "cell_type": "code",
   "execution_count": null,
   "id": "45332d6f",
   "metadata": {},
   "outputs": [],
   "source": []
  }
 ],
 "metadata": {
  "kernelspec": {
   "display_name": "Python 3 (ipykernel)",
   "language": "python",
   "name": "python3"
  },
  "language_info": {
   "codemirror_mode": {
    "name": "ipython",
    "version": 3
   },
   "file_extension": ".py",
   "mimetype": "text/x-python",
   "name": "python",
   "nbconvert_exporter": "python",
   "pygments_lexer": "ipython3",
   "version": "3.10.9"
  }
 },
 "nbformat": 4,
 "nbformat_minor": 5
}
